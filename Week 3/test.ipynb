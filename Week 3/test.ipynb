{
 "cells": [
  {
   "cell_type": "markdown",
   "metadata": {},
   "source": [
    "**(1) Compute the following for a ring topology of $N=5$ and $N=6$  nodes considering that the network in unweighted and the links are directed. The result will give these number as a function of $N$.** ![](./ring.png) *Fig. 1 Example when $N=6$.* "
   ]
  },
  {
   "cell_type": "code",
   "execution_count": null,
   "metadata": {},
   "outputs": [],
   "source": [
    "import networkx as nx #https://networkx.github.io/\n",
    "import matplotlib.pyplot as plt #https://matplotlib.org/\n",
    "import scipy as sp\n",
    "import numpy as np\n",
    "\n",
    "G = nx.Graph()\n",
    "\n",
    "#One node\n",
    "G.add_node(1)\n",
    "\n",
    "#Two or more nodes\n",
    "G.add_nodes_from([2, 3])\n",
    "\n",
    "#Creating edges\n",
    "G.add_edge(1, 2)\n",
    "#From a variable\n",
    "e = (2, 3)\n",
    "G.add_edge(*e) # unpack edge tuple*\n",
    "#Two or more edges\n",
    "G.add_edges_from([(1, 2), (1, 3)])\n",
    "\n",
    "nx.draw_networkx(G, node_color='black', font_color='white', edge_color='black', font_weight='bold', node_size=700)\n",
    "\n",
    "plt.axis('off')\n",
    "plt.show()\n",
    "\n",
    "#Clear the graph\n",
    "G.clear()\n",
    "\n",
    "#Generating a complete graph with 5 elements\n",
    "G = nx.complete_graph(5)\n",
    "#G = nx.barabasi_albert_graph(100, 5)\n",
    "nx.draw_networkx(G, node_color='black', font_color='white', edge_color='black', font_weight='bold', \n",
    "                 node_size=700)\n",
    "\n",
    "plt.axis('off')\n",
    "plt.show()\n",
    "\n",
    "G.remove_edge(1, 3)\n",
    "G.remove_edge(2, 3)\n",
    "G.remove_edge(1, 4)\n",
    "G.remove_edge(0, 2)\n",
    "#\n",
    "nx.draw_networkx(G, node_color='black', font_color='white', edge_color='black', font_weight='bold',  node_size=700)\n",
    "plt.axis('off')\n",
    "plt.show()\n",
    "\n",
    "#Adding a new node number 5 to node 4\n",
    "G.add_node(5)\n",
    "G.add_edge(4, 5)\n",
    "#\n",
    "nx.draw_networkx(G, node_color='black', font_color='white', edge_color='black', font_weight='bold',  node_size=700)\n",
    "plt.axis('off')\n",
    "plt.show()\n"
   ]
  },
  {
   "cell_type": "code",
   "execution_count": null,
   "metadata": {},
   "outputs": [],
   "source": [
    "#Calculations with this graph\n",
    "\n",
    "A = nx.adjacency_matrix(G)\n",
    "print(A.todense())\n",
    "G.degree()\n",
    "\n",
    "print(\"Clustering: \")\n",
    "display(nx.clustering(G))\n",
    "print(\"Diameter:\")\n",
    "display(nx.diameter(G))"
   ]
  },
  {
   "cell_type": "code",
   "execution_count": null,
   "metadata": {},
   "outputs": [],
   "source": [
    "G.add_edge(3, 5)\n",
    "#\n",
    "nx.draw_networkx(G, node_color='black', font_color='white', edge_color='black', font_weight='bold',  node_size=700)\n",
    "plt.axis('off')\n",
    "plt.show()\n",
    "\n",
    "G.degree()"
   ]
  }
 ],
 "metadata": {
  "language_info": {
   "name": "python"
  }
 },
 "nbformat": 4,
 "nbformat_minor": 2
}
